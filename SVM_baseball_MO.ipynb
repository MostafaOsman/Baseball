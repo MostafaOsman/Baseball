{
 "cells": [
  {
   "cell_type": "code",
   "execution_count": null,
   "id": "a8263d24",
   "metadata": {},
   "outputs": [],
   "source": [
    "import codecademylib3_seaborn\n",
    "import matplotlib.pyplot as plt\n",
    "from sklearn.svm import SVC\n",
    "from sklearn.model_selection import train_test_split\n",
    "from svm_visualization import draw_boundary\n",
    "from players import aaron_judge, jose_altuve, david_ortiz\n",
    "\n",
    "fig, ax = plt.subplots()\n",
    "\n",
    "def my_function(players):\n",
    "\n",
    "    players['type'] = players['type'].map({'S':1,'B':0})\n",
    "\n",
    "    #print(aaron_judge['type'])\n",
    "    #print(aaron_judge['plate_x'])\n",
    "    #print(aaron_judge['plate_z'])\n",
    "    #print(aaron_judge['plate_z'].mean())\n",
    "    #print(aaron_judge['plate_z'].isna().sum())\n",
    "\n",
    "    #aaron_judge['plate_z']\n",
    "\n",
    "    players= players.dropna(subset = ['type','plate_x','plate_z'])\n",
    "\n",
    "\n",
    "    plt.scatter(x= 'plate_x' ,y= 'plate_z' ,c= 'type',cmap = 'coolwarm', data= players,alpha= 0.25)\n",
    "\n",
    "    training_set, validation_set =train_test_split(players, random_state=1)\n",
    "\n",
    "    training_set['plate_x'].fillna(\"{:.2f}\".format(training_set['plate_x'].mean()))\n",
    "    training_set['plate_x'].fillna(\"{:.2f}\".format(training_set['plate_x'].mean()))\n",
    "\n",
    "\n",
    "    results = []\n",
    "    \"\"\"\n",
    "    for i in range(1,100):\n",
    "      for j in range(1,100):\n",
    "        classifier = SVC(kernel ='rbf',C=i,gamma = j)\n",
    "        classifier.fit(training_set[['plate_x','plate_z']],training_set['type'])\n",
    "        result = classifier.score(validation_set[['plate_x','plate_z']],validation_set['type'])\n",
    "        results.append([result,i,j])\n",
    "        print([result,i,j])      \n",
    "    \"\"\"\n",
    "\n",
    "    classifier = SVC(kernel ='rbf',C=1,gamma = 60)\n",
    "    classifier.fit(training_set[['plate_x','plate_z']],training_set['type'])\n",
    "    result = classifier.score(validation_set[['plate_x','plate_z']],validation_set['type'])\n",
    "    print(\"The Classification Accuracy of the model is {:.2f} % \".format(result*100))\n",
    "    \n",
    "    return classifier\n",
    "\n",
    "draw_boundary(ax,my_function(aaron_judge))\n",
    "plt.show()"
   ]
  }
 ],
 "metadata": {
  "kernelspec": {
   "display_name": "Python 3 (ipykernel)",
   "language": "python",
   "name": "python3"
  },
  "language_info": {
   "codemirror_mode": {
    "name": "ipython",
    "version": 3
   },
   "file_extension": ".py",
   "mimetype": "text/x-python",
   "name": "python",
   "nbconvert_exporter": "python",
   "pygments_lexer": "ipython3",
   "version": "3.9.7"
  }
 },
 "nbformat": 4,
 "nbformat_minor": 5
}
